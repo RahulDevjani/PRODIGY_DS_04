{
  "nbformat": 4,
  "nbformat_minor": 0,
  "metadata": {
    "colab": {
      "provenance": []
    },
    "kernelspec": {
      "name": "python3",
      "display_name": "Python 3"
    },
    "language_info": {
      "name": "python"
    }
  },
  "cells": [
    {
      "cell_type": "code",
      "execution_count": 15,
      "metadata": {
        "colab": {
          "base_uri": "https://localhost:8080/"
        },
        "id": "fFZLBsRYOJvs",
        "outputId": "ef54f97d-7d73-4f43-9569-0659d507d503"
      },
      "outputs": [
        {
          "output_type": "stream",
          "name": "stderr",
          "text": [
            "[nltk_data] Downloading package stopwords to /root/nltk_data...\n",
            "[nltk_data]   Unzipping corpora/stopwords.zip.\n"
          ]
        }
      ],
      "source": [
        "#Load data-preprocessing libraries\n",
        "import pandas as pd\n",
        "import numpy as np\n",
        "\n",
        "#Text processing libraries\n",
        "import re\n",
        "import nltk\n",
        "from nltk.corpus import stopwords\n",
        "from nltk.stem import WordNetLemmatizer\n",
        "from sklearn.feature_extraction.text import TfidfVectorizer #feature extraction\n",
        "\n",
        "#Load data-visualization libraries\n",
        "import matplotlib.pyplot as plt\n",
        "import seaborn as sns\n",
        "\n",
        "#model building\n",
        "from sklearn.model_selection import train_test_split\n",
        "from sklearn.linear_model import LogisticRegression\n",
        "from sklearn.tree import DecisionTreeClassifier\n",
        "from sklearn.ensemble import RandomForestClassifier\n",
        "from sklearn.naive_bayes import MultinomialNB\n",
        "\n",
        "#evaluation metrics\n",
        "from sklearn.metrics import f1_score,accuracy_score,confusion_matrix\n",
        "\n",
        "nltk.download('stopwords')\n",
        "stop_words = set(stopwords.words('english'))\n",
        "\n",
        "lemmatizer = WordNetLemmatizer()\n",
        "\n",
        "pd.pandas.set_option('display.max_columns',None)"
      ]
    },
    {
      "cell_type": "code",
      "source": [
        "#Read the dataset\n",
        "df=pd.read_csv('Twitter_cleaned.csv',index_col='Unnamed: 0')\n",
        "df.head()"
      ],
      "metadata": {
        "colab": {
          "base_uri": "https://localhost:8080/",
          "height": 399
        },
        "id": "u2m6oKdab2vW",
        "outputId": "edf5e713-e055-4b96-8545-72c03a1e0346"
      },
      "execution_count": 16,
      "outputs": [
        {
          "output_type": "execute_result",
          "data": {
            "text/plain": [
              "   Sentiment  Tweet_word_count  Tweet_char_count  \\\n",
              "0          1                11                43   \n",
              "1          1                12                40   \n",
              "2          1                10                41   \n",
              "3          1                10                42   \n",
              "4          1                12                46   \n",
              "\n",
              "                    Tweet_clean  ApexLegends  AssassinsCreed  Battlefield  \\\n",
              "0  im getting borderland murder            0               0            0   \n",
              "1            coming border kill            0               0            0   \n",
              "2    im getting borderland kill            0               0            0   \n",
              "3   im coming borderland murder            0               0            0   \n",
              "4  im getting borderland murder            0               0            0   \n",
              "\n",
              "   Borderlands  CS-GO  CallOfDuty  CallOfDutyBlackopsColdWar  Cyberpunk2077  \\\n",
              "0            1      0           0                          0              0   \n",
              "1            1      0           0                          0              0   \n",
              "2            1      0           0                          0              0   \n",
              "3            1      0           0                          0              0   \n",
              "4            1      0           0                          0              0   \n",
              "\n",
              "   Dota2  FIFA  Facebook  Fortnite  Google  GrandTheftAuto(GTA)  Hearthstone  \\\n",
              "0      0     0         0         0       0                    0            0   \n",
              "1      0     0         0         0       0                    0            0   \n",
              "2      0     0         0         0       0                    0            0   \n",
              "3      0     0         0         0       0                    0            0   \n",
              "4      0     0         0         0       0                    0            0   \n",
              "\n",
              "   HomeDepot  LeagueOfLegends  MaddenNFL  Microsoft  NBA2K  Nvidia  Overwatch  \\\n",
              "0          0                0          0          0      0       0          0   \n",
              "1          0                0          0          0      0       0          0   \n",
              "2          0                0          0          0      0       0          0   \n",
              "3          0                0          0          0      0       0          0   \n",
              "4          0                0          0          0      0       0          0   \n",
              "\n",
              "   PlayStation5(PS5)  PlayerUnknownsBattlegrounds(PUBG)  \\\n",
              "0                  0                                  0   \n",
              "1                  0                                  0   \n",
              "2                  0                                  0   \n",
              "3                  0                                  0   \n",
              "4                  0                                  0   \n",
              "\n",
              "   RedDeadRedemption(RDR)  TomClancysGhostRecon  TomClancysRainbowSix  \\\n",
              "0                     0.0                   0.0                   0.0   \n",
              "1                     0.0                   0.0                   0.0   \n",
              "2                     0.0                   0.0                   0.0   \n",
              "3                     0.0                   0.0                   0.0   \n",
              "4                     0.0                   0.0                   0.0   \n",
              "\n",
              "   Verizon  WorldOfCraft  Xbox(Xseries)  johnson&johnson  \n",
              "0      0.0           0.0            0.0              0.0  \n",
              "1      0.0           0.0            0.0              0.0  \n",
              "2      0.0           0.0            0.0              0.0  \n",
              "3      0.0           0.0            0.0              0.0  \n",
              "4      0.0           0.0            0.0              0.0  "
            ],
            "text/html": [
              "\n",
              "  <div id=\"df-5c36c168-70d9-49ce-9d0e-50d0036c1ac7\" class=\"colab-df-container\">\n",
              "    <div>\n",
              "<style scoped>\n",
              "    .dataframe tbody tr th:only-of-type {\n",
              "        vertical-align: middle;\n",
              "    }\n",
              "\n",
              "    .dataframe tbody tr th {\n",
              "        vertical-align: top;\n",
              "    }\n",
              "\n",
              "    .dataframe thead th {\n",
              "        text-align: right;\n",
              "    }\n",
              "</style>\n",
              "<table border=\"1\" class=\"dataframe\">\n",
              "  <thead>\n",
              "    <tr style=\"text-align: right;\">\n",
              "      <th></th>\n",
              "      <th>Sentiment</th>\n",
              "      <th>Tweet_word_count</th>\n",
              "      <th>Tweet_char_count</th>\n",
              "      <th>Tweet_clean</th>\n",
              "      <th>ApexLegends</th>\n",
              "      <th>AssassinsCreed</th>\n",
              "      <th>Battlefield</th>\n",
              "      <th>Borderlands</th>\n",
              "      <th>CS-GO</th>\n",
              "      <th>CallOfDuty</th>\n",
              "      <th>CallOfDutyBlackopsColdWar</th>\n",
              "      <th>Cyberpunk2077</th>\n",
              "      <th>Dota2</th>\n",
              "      <th>FIFA</th>\n",
              "      <th>Facebook</th>\n",
              "      <th>Fortnite</th>\n",
              "      <th>Google</th>\n",
              "      <th>GrandTheftAuto(GTA)</th>\n",
              "      <th>Hearthstone</th>\n",
              "      <th>HomeDepot</th>\n",
              "      <th>LeagueOfLegends</th>\n",
              "      <th>MaddenNFL</th>\n",
              "      <th>Microsoft</th>\n",
              "      <th>NBA2K</th>\n",
              "      <th>Nvidia</th>\n",
              "      <th>Overwatch</th>\n",
              "      <th>PlayStation5(PS5)</th>\n",
              "      <th>PlayerUnknownsBattlegrounds(PUBG)</th>\n",
              "      <th>RedDeadRedemption(RDR)</th>\n",
              "      <th>TomClancysGhostRecon</th>\n",
              "      <th>TomClancysRainbowSix</th>\n",
              "      <th>Verizon</th>\n",
              "      <th>WorldOfCraft</th>\n",
              "      <th>Xbox(Xseries)</th>\n",
              "      <th>johnson&amp;johnson</th>\n",
              "    </tr>\n",
              "  </thead>\n",
              "  <tbody>\n",
              "    <tr>\n",
              "      <th>0</th>\n",
              "      <td>1</td>\n",
              "      <td>11</td>\n",
              "      <td>43</td>\n",
              "      <td>im getting borderland murder</td>\n",
              "      <td>0</td>\n",
              "      <td>0</td>\n",
              "      <td>0</td>\n",
              "      <td>1</td>\n",
              "      <td>0</td>\n",
              "      <td>0</td>\n",
              "      <td>0</td>\n",
              "      <td>0</td>\n",
              "      <td>0</td>\n",
              "      <td>0</td>\n",
              "      <td>0</td>\n",
              "      <td>0</td>\n",
              "      <td>0</td>\n",
              "      <td>0</td>\n",
              "      <td>0</td>\n",
              "      <td>0</td>\n",
              "      <td>0</td>\n",
              "      <td>0</td>\n",
              "      <td>0</td>\n",
              "      <td>0</td>\n",
              "      <td>0</td>\n",
              "      <td>0</td>\n",
              "      <td>0</td>\n",
              "      <td>0</td>\n",
              "      <td>0.0</td>\n",
              "      <td>0.0</td>\n",
              "      <td>0.0</td>\n",
              "      <td>0.0</td>\n",
              "      <td>0.0</td>\n",
              "      <td>0.0</td>\n",
              "      <td>0.0</td>\n",
              "    </tr>\n",
              "    <tr>\n",
              "      <th>1</th>\n",
              "      <td>1</td>\n",
              "      <td>12</td>\n",
              "      <td>40</td>\n",
              "      <td>coming border kill</td>\n",
              "      <td>0</td>\n",
              "      <td>0</td>\n",
              "      <td>0</td>\n",
              "      <td>1</td>\n",
              "      <td>0</td>\n",
              "      <td>0</td>\n",
              "      <td>0</td>\n",
              "      <td>0</td>\n",
              "      <td>0</td>\n",
              "      <td>0</td>\n",
              "      <td>0</td>\n",
              "      <td>0</td>\n",
              "      <td>0</td>\n",
              "      <td>0</td>\n",
              "      <td>0</td>\n",
              "      <td>0</td>\n",
              "      <td>0</td>\n",
              "      <td>0</td>\n",
              "      <td>0</td>\n",
              "      <td>0</td>\n",
              "      <td>0</td>\n",
              "      <td>0</td>\n",
              "      <td>0</td>\n",
              "      <td>0</td>\n",
              "      <td>0.0</td>\n",
              "      <td>0.0</td>\n",
              "      <td>0.0</td>\n",
              "      <td>0.0</td>\n",
              "      <td>0.0</td>\n",
              "      <td>0.0</td>\n",
              "      <td>0.0</td>\n",
              "    </tr>\n",
              "    <tr>\n",
              "      <th>2</th>\n",
              "      <td>1</td>\n",
              "      <td>10</td>\n",
              "      <td>41</td>\n",
              "      <td>im getting borderland kill</td>\n",
              "      <td>0</td>\n",
              "      <td>0</td>\n",
              "      <td>0</td>\n",
              "      <td>1</td>\n",
              "      <td>0</td>\n",
              "      <td>0</td>\n",
              "      <td>0</td>\n",
              "      <td>0</td>\n",
              "      <td>0</td>\n",
              "      <td>0</td>\n",
              "      <td>0</td>\n",
              "      <td>0</td>\n",
              "      <td>0</td>\n",
              "      <td>0</td>\n",
              "      <td>0</td>\n",
              "      <td>0</td>\n",
              "      <td>0</td>\n",
              "      <td>0</td>\n",
              "      <td>0</td>\n",
              "      <td>0</td>\n",
              "      <td>0</td>\n",
              "      <td>0</td>\n",
              "      <td>0</td>\n",
              "      <td>0</td>\n",
              "      <td>0.0</td>\n",
              "      <td>0.0</td>\n",
              "      <td>0.0</td>\n",
              "      <td>0.0</td>\n",
              "      <td>0.0</td>\n",
              "      <td>0.0</td>\n",
              "      <td>0.0</td>\n",
              "    </tr>\n",
              "    <tr>\n",
              "      <th>3</th>\n",
              "      <td>1</td>\n",
              "      <td>10</td>\n",
              "      <td>42</td>\n",
              "      <td>im coming borderland murder</td>\n",
              "      <td>0</td>\n",
              "      <td>0</td>\n",
              "      <td>0</td>\n",
              "      <td>1</td>\n",
              "      <td>0</td>\n",
              "      <td>0</td>\n",
              "      <td>0</td>\n",
              "      <td>0</td>\n",
              "      <td>0</td>\n",
              "      <td>0</td>\n",
              "      <td>0</td>\n",
              "      <td>0</td>\n",
              "      <td>0</td>\n",
              "      <td>0</td>\n",
              "      <td>0</td>\n",
              "      <td>0</td>\n",
              "      <td>0</td>\n",
              "      <td>0</td>\n",
              "      <td>0</td>\n",
              "      <td>0</td>\n",
              "      <td>0</td>\n",
              "      <td>0</td>\n",
              "      <td>0</td>\n",
              "      <td>0</td>\n",
              "      <td>0.0</td>\n",
              "      <td>0.0</td>\n",
              "      <td>0.0</td>\n",
              "      <td>0.0</td>\n",
              "      <td>0.0</td>\n",
              "      <td>0.0</td>\n",
              "      <td>0.0</td>\n",
              "    </tr>\n",
              "    <tr>\n",
              "      <th>4</th>\n",
              "      <td>1</td>\n",
              "      <td>12</td>\n",
              "      <td>46</td>\n",
              "      <td>im getting borderland murder</td>\n",
              "      <td>0</td>\n",
              "      <td>0</td>\n",
              "      <td>0</td>\n",
              "      <td>1</td>\n",
              "      <td>0</td>\n",
              "      <td>0</td>\n",
              "      <td>0</td>\n",
              "      <td>0</td>\n",
              "      <td>0</td>\n",
              "      <td>0</td>\n",
              "      <td>0</td>\n",
              "      <td>0</td>\n",
              "      <td>0</td>\n",
              "      <td>0</td>\n",
              "      <td>0</td>\n",
              "      <td>0</td>\n",
              "      <td>0</td>\n",
              "      <td>0</td>\n",
              "      <td>0</td>\n",
              "      <td>0</td>\n",
              "      <td>0</td>\n",
              "      <td>0</td>\n",
              "      <td>0</td>\n",
              "      <td>0</td>\n",
              "      <td>0.0</td>\n",
              "      <td>0.0</td>\n",
              "      <td>0.0</td>\n",
              "      <td>0.0</td>\n",
              "      <td>0.0</td>\n",
              "      <td>0.0</td>\n",
              "      <td>0.0</td>\n",
              "    </tr>\n",
              "  </tbody>\n",
              "</table>\n",
              "</div>\n",
              "    <div class=\"colab-df-buttons\">\n",
              "\n",
              "  <div class=\"colab-df-container\">\n",
              "    <button class=\"colab-df-convert\" onclick=\"convertToInteractive('df-5c36c168-70d9-49ce-9d0e-50d0036c1ac7')\"\n",
              "            title=\"Convert this dataframe to an interactive table.\"\n",
              "            style=\"display:none;\">\n",
              "\n",
              "  <svg xmlns=\"http://www.w3.org/2000/svg\" height=\"24px\" viewBox=\"0 -960 960 960\">\n",
              "    <path d=\"M120-120v-720h720v720H120Zm60-500h600v-160H180v160Zm220 220h160v-160H400v160Zm0 220h160v-160H400v160ZM180-400h160v-160H180v160Zm440 0h160v-160H620v160ZM180-180h160v-160H180v160Zm440 0h160v-160H620v160Z\"/>\n",
              "  </svg>\n",
              "    </button>\n",
              "\n",
              "  <style>\n",
              "    .colab-df-container {\n",
              "      display:flex;\n",
              "      gap: 12px;\n",
              "    }\n",
              "\n",
              "    .colab-df-convert {\n",
              "      background-color: #E8F0FE;\n",
              "      border: none;\n",
              "      border-radius: 50%;\n",
              "      cursor: pointer;\n",
              "      display: none;\n",
              "      fill: #1967D2;\n",
              "      height: 32px;\n",
              "      padding: 0 0 0 0;\n",
              "      width: 32px;\n",
              "    }\n",
              "\n",
              "    .colab-df-convert:hover {\n",
              "      background-color: #E2EBFA;\n",
              "      box-shadow: 0px 1px 2px rgba(60, 64, 67, 0.3), 0px 1px 3px 1px rgba(60, 64, 67, 0.15);\n",
              "      fill: #174EA6;\n",
              "    }\n",
              "\n",
              "    .colab-df-buttons div {\n",
              "      margin-bottom: 4px;\n",
              "    }\n",
              "\n",
              "    [theme=dark] .colab-df-convert {\n",
              "      background-color: #3B4455;\n",
              "      fill: #D2E3FC;\n",
              "    }\n",
              "\n",
              "    [theme=dark] .colab-df-convert:hover {\n",
              "      background-color: #434B5C;\n",
              "      box-shadow: 0px 1px 3px 1px rgba(0, 0, 0, 0.15);\n",
              "      filter: drop-shadow(0px 1px 2px rgba(0, 0, 0, 0.3));\n",
              "      fill: #FFFFFF;\n",
              "    }\n",
              "  </style>\n",
              "\n",
              "    <script>\n",
              "      const buttonEl =\n",
              "        document.querySelector('#df-5c36c168-70d9-49ce-9d0e-50d0036c1ac7 button.colab-df-convert');\n",
              "      buttonEl.style.display =\n",
              "        google.colab.kernel.accessAllowed ? 'block' : 'none';\n",
              "\n",
              "      async function convertToInteractive(key) {\n",
              "        const element = document.querySelector('#df-5c36c168-70d9-49ce-9d0e-50d0036c1ac7');\n",
              "        const dataTable =\n",
              "          await google.colab.kernel.invokeFunction('convertToInteractive',\n",
              "                                                    [key], {});\n",
              "        if (!dataTable) return;\n",
              "\n",
              "        const docLinkHtml = 'Like what you see? Visit the ' +\n",
              "          '<a target=\"_blank\" href=https://colab.research.google.com/notebooks/data_table.ipynb>data table notebook</a>'\n",
              "          + ' to learn more about interactive tables.';\n",
              "        element.innerHTML = '';\n",
              "        dataTable['output_type'] = 'display_data';\n",
              "        await google.colab.output.renderOutput(dataTable, element);\n",
              "        const docLink = document.createElement('div');\n",
              "        docLink.innerHTML = docLinkHtml;\n",
              "        element.appendChild(docLink);\n",
              "      }\n",
              "    </script>\n",
              "  </div>\n",
              "\n",
              "\n",
              "<div id=\"df-c7f4b06b-eb25-40ef-8544-7bb99f76e2df\">\n",
              "  <button class=\"colab-df-quickchart\" onclick=\"quickchart('df-c7f4b06b-eb25-40ef-8544-7bb99f76e2df')\"\n",
              "            title=\"Suggest charts\"\n",
              "            style=\"display:none;\">\n",
              "\n",
              "<svg xmlns=\"http://www.w3.org/2000/svg\" height=\"24px\"viewBox=\"0 0 24 24\"\n",
              "     width=\"24px\">\n",
              "    <g>\n",
              "        <path d=\"M19 3H5c-1.1 0-2 .9-2 2v14c0 1.1.9 2 2 2h14c1.1 0 2-.9 2-2V5c0-1.1-.9-2-2-2zM9 17H7v-7h2v7zm4 0h-2V7h2v10zm4 0h-2v-4h2v4z\"/>\n",
              "    </g>\n",
              "</svg>\n",
              "  </button>\n",
              "\n",
              "<style>\n",
              "  .colab-df-quickchart {\n",
              "      --bg-color: #E8F0FE;\n",
              "      --fill-color: #1967D2;\n",
              "      --hover-bg-color: #E2EBFA;\n",
              "      --hover-fill-color: #174EA6;\n",
              "      --disabled-fill-color: #AAA;\n",
              "      --disabled-bg-color: #DDD;\n",
              "  }\n",
              "\n",
              "  [theme=dark] .colab-df-quickchart {\n",
              "      --bg-color: #3B4455;\n",
              "      --fill-color: #D2E3FC;\n",
              "      --hover-bg-color: #434B5C;\n",
              "      --hover-fill-color: #FFFFFF;\n",
              "      --disabled-bg-color: #3B4455;\n",
              "      --disabled-fill-color: #666;\n",
              "  }\n",
              "\n",
              "  .colab-df-quickchart {\n",
              "    background-color: var(--bg-color);\n",
              "    border: none;\n",
              "    border-radius: 50%;\n",
              "    cursor: pointer;\n",
              "    display: none;\n",
              "    fill: var(--fill-color);\n",
              "    height: 32px;\n",
              "    padding: 0;\n",
              "    width: 32px;\n",
              "  }\n",
              "\n",
              "  .colab-df-quickchart:hover {\n",
              "    background-color: var(--hover-bg-color);\n",
              "    box-shadow: 0 1px 2px rgba(60, 64, 67, 0.3), 0 1px 3px 1px rgba(60, 64, 67, 0.15);\n",
              "    fill: var(--button-hover-fill-color);\n",
              "  }\n",
              "\n",
              "  .colab-df-quickchart-complete:disabled,\n",
              "  .colab-df-quickchart-complete:disabled:hover {\n",
              "    background-color: var(--disabled-bg-color);\n",
              "    fill: var(--disabled-fill-color);\n",
              "    box-shadow: none;\n",
              "  }\n",
              "\n",
              "  .colab-df-spinner {\n",
              "    border: 2px solid var(--fill-color);\n",
              "    border-color: transparent;\n",
              "    border-bottom-color: var(--fill-color);\n",
              "    animation:\n",
              "      spin 1s steps(1) infinite;\n",
              "  }\n",
              "\n",
              "  @keyframes spin {\n",
              "    0% {\n",
              "      border-color: transparent;\n",
              "      border-bottom-color: var(--fill-color);\n",
              "      border-left-color: var(--fill-color);\n",
              "    }\n",
              "    20% {\n",
              "      border-color: transparent;\n",
              "      border-left-color: var(--fill-color);\n",
              "      border-top-color: var(--fill-color);\n",
              "    }\n",
              "    30% {\n",
              "      border-color: transparent;\n",
              "      border-left-color: var(--fill-color);\n",
              "      border-top-color: var(--fill-color);\n",
              "      border-right-color: var(--fill-color);\n",
              "    }\n",
              "    40% {\n",
              "      border-color: transparent;\n",
              "      border-right-color: var(--fill-color);\n",
              "      border-top-color: var(--fill-color);\n",
              "    }\n",
              "    60% {\n",
              "      border-color: transparent;\n",
              "      border-right-color: var(--fill-color);\n",
              "    }\n",
              "    80% {\n",
              "      border-color: transparent;\n",
              "      border-right-color: var(--fill-color);\n",
              "      border-bottom-color: var(--fill-color);\n",
              "    }\n",
              "    90% {\n",
              "      border-color: transparent;\n",
              "      border-bottom-color: var(--fill-color);\n",
              "    }\n",
              "  }\n",
              "</style>\n",
              "\n",
              "  <script>\n",
              "    async function quickchart(key) {\n",
              "      const quickchartButtonEl =\n",
              "        document.querySelector('#' + key + ' button');\n",
              "      quickchartButtonEl.disabled = true;  // To prevent multiple clicks.\n",
              "      quickchartButtonEl.classList.add('colab-df-spinner');\n",
              "      try {\n",
              "        const charts = await google.colab.kernel.invokeFunction(\n",
              "            'suggestCharts', [key], {});\n",
              "      } catch (error) {\n",
              "        console.error('Error during call to suggestCharts:', error);\n",
              "      }\n",
              "      quickchartButtonEl.classList.remove('colab-df-spinner');\n",
              "      quickchartButtonEl.classList.add('colab-df-quickchart-complete');\n",
              "    }\n",
              "    (() => {\n",
              "      let quickchartButtonEl =\n",
              "        document.querySelector('#df-c7f4b06b-eb25-40ef-8544-7bb99f76e2df button');\n",
              "      quickchartButtonEl.style.display =\n",
              "        google.colab.kernel.accessAllowed ? 'block' : 'none';\n",
              "    })();\n",
              "  </script>\n",
              "</div>\n",
              "\n",
              "    </div>\n",
              "  </div>\n"
            ],
            "application/vnd.google.colaboratory.intrinsic+json": {
              "type": "dataframe",
              "variable_name": "df"
            }
          },
          "metadata": {},
          "execution_count": 16
        }
      ]
    },
    {
      "cell_type": "code",
      "source": [
        "df.shape"
      ],
      "metadata": {
        "colab": {
          "base_uri": "https://localhost:8080/"
        },
        "id": "-8cIqnPXb7mZ",
        "outputId": "350c96aa-334c-416f-f738-144298919db6"
      },
      "execution_count": 17,
      "outputs": [
        {
          "output_type": "execute_result",
          "data": {
            "text/plain": [
              "(22181, 35)"
            ]
          },
          "metadata": {},
          "execution_count": 17
        }
      ]
    },
    {
      "cell_type": "code",
      "source": [
        "#check for null values\n",
        "(df.isnull().sum()/len(df))*100"
      ],
      "metadata": {
        "colab": {
          "base_uri": "https://localhost:8080/"
        },
        "id": "wiElLgGRcvdh",
        "outputId": "b59c0ee9-230d-477c-c365-c9c854cabee7"
      },
      "execution_count": 18,
      "outputs": [
        {
          "output_type": "execute_result",
          "data": {
            "text/plain": [
              "Sentiment                            0.000000\n",
              "Tweet_word_count                     0.000000\n",
              "Tweet_char_count                     0.000000\n",
              "Tweet_clean                          2.240656\n",
              "ApexLegends                          0.000000\n",
              "AssassinsCreed                       0.000000\n",
              "Battlefield                          0.000000\n",
              "Borderlands                          0.000000\n",
              "CS-GO                                0.000000\n",
              "CallOfDuty                           0.000000\n",
              "CallOfDutyBlackopsColdWar            0.000000\n",
              "Cyberpunk2077                        0.000000\n",
              "Dota2                                0.000000\n",
              "FIFA                                 0.000000\n",
              "Facebook                             0.000000\n",
              "Fortnite                             0.000000\n",
              "Google                               0.000000\n",
              "GrandTheftAuto(GTA)                  0.000000\n",
              "Hearthstone                          0.000000\n",
              "HomeDepot                            0.000000\n",
              "LeagueOfLegends                      0.000000\n",
              "MaddenNFL                            0.000000\n",
              "Microsoft                            0.000000\n",
              "NBA2K                                0.000000\n",
              "Nvidia                               0.000000\n",
              "Overwatch                            0.000000\n",
              "PlayStation5(PS5)                    0.000000\n",
              "PlayerUnknownsBattlegrounds(PUBG)    0.000000\n",
              "RedDeadRedemption(RDR)               0.004508\n",
              "TomClancysGhostRecon                 0.004508\n",
              "TomClancysRainbowSix                 0.004508\n",
              "Verizon                              0.004508\n",
              "WorldOfCraft                         0.004508\n",
              "Xbox(Xseries)                        0.004508\n",
              "johnson&johnson                      0.004508\n",
              "dtype: float64"
            ]
          },
          "metadata": {},
          "execution_count": 18
        }
      ]
    },
    {
      "cell_type": "code",
      "source": [
        "df.dropna(axis=0,how='any',inplace=True)"
      ],
      "metadata": {
        "id": "6kIwUtOUc2C2"
      },
      "execution_count": 19,
      "outputs": []
    },
    {
      "cell_type": "code",
      "source": [
        "df.isnull().sum()"
      ],
      "metadata": {
        "colab": {
          "base_uri": "https://localhost:8080/"
        },
        "id": "0JgYy_BDc6z-",
        "outputId": "a11bc9cb-6586-478a-9dbd-ad21e0cd8f96"
      },
      "execution_count": 20,
      "outputs": [
        {
          "output_type": "execute_result",
          "data": {
            "text/plain": [
              "Sentiment                            0\n",
              "Tweet_word_count                     0\n",
              "Tweet_char_count                     0\n",
              "Tweet_clean                          0\n",
              "ApexLegends                          0\n",
              "AssassinsCreed                       0\n",
              "Battlefield                          0\n",
              "Borderlands                          0\n",
              "CS-GO                                0\n",
              "CallOfDuty                           0\n",
              "CallOfDutyBlackopsColdWar            0\n",
              "Cyberpunk2077                        0\n",
              "Dota2                                0\n",
              "FIFA                                 0\n",
              "Facebook                             0\n",
              "Fortnite                             0\n",
              "Google                               0\n",
              "GrandTheftAuto(GTA)                  0\n",
              "Hearthstone                          0\n",
              "HomeDepot                            0\n",
              "LeagueOfLegends                      0\n",
              "MaddenNFL                            0\n",
              "Microsoft                            0\n",
              "NBA2K                                0\n",
              "Nvidia                               0\n",
              "Overwatch                            0\n",
              "PlayStation5(PS5)                    0\n",
              "PlayerUnknownsBattlegrounds(PUBG)    0\n",
              "RedDeadRedemption(RDR)               0\n",
              "TomClancysGhostRecon                 0\n",
              "TomClancysRainbowSix                 0\n",
              "Verizon                              0\n",
              "WorldOfCraft                         0\n",
              "Xbox(Xseries)                        0\n",
              "johnson&johnson                      0\n",
              "dtype: int64"
            ]
          },
          "metadata": {},
          "execution_count": 20
        }
      ]
    },
    {
      "cell_type": "code",
      "source": [
        "#Seperate dependent and independent features\n",
        "X=df.loc[:,df.columns!='Sentiment']\n",
        "y=df['Sentiment']"
      ],
      "metadata": {
        "id": "6degX0aCdAdY"
      },
      "execution_count": 21,
      "outputs": []
    },
    {
      "cell_type": "code",
      "source": [
        "# Break off validation set from training data\n",
        "X_train, X_valid, y_train, y_valid = train_test_split(X, y, train_size=0.7, test_size=0.3, random_state=0)\n",
        "# summarize\n",
        "print('Train', X_train.shape, y_train.shape)\n",
        "print('Test', X_valid.shape, y_valid.shape)"
      ],
      "metadata": {
        "colab": {
          "base_uri": "https://localhost:8080/"
        },
        "id": "nwBvTLkXdFXG",
        "outputId": "61ede7e0-05d4-488a-8f9b-f26a8aa49574"
      },
      "execution_count": 22,
      "outputs": [
        {
          "output_type": "stream",
          "name": "stdout",
          "text": [
            "Train (15178, 34) (15178,)\n",
            "Test (6505, 34) (6505,)\n"
          ]
        }
      ]
    },
    {
      "cell_type": "code",
      "source": [
        "vectorizer = TfidfVectorizer(stop_words='english')\n",
        "features_train= vectorizer.fit_transform(X_train['Tweet_clean'])\n",
        "features_valid= vectorizer.transform(X_valid['Tweet_clean'])\n",
        "features_train.shape, features_valid.shape"
      ],
      "metadata": {
        "colab": {
          "base_uri": "https://localhost:8080/"
        },
        "id": "KE_Mr7yEdKGB",
        "outputId": "e616cd94-42ba-4e8f-a174-6c85a2fc5be7"
      },
      "execution_count": 23,
      "outputs": [
        {
          "output_type": "execute_result",
          "data": {
            "text/plain": [
              "((15178, 12627), (6505, 12627))"
            ]
          },
          "metadata": {},
          "execution_count": 23
        }
      ]
    },
    {
      "cell_type": "code",
      "source": [
        "#Function to fit and apply a model\n",
        "def model_apply(model):\n",
        "    #train the model\n",
        "    model.fit(features_train,y_train)\n",
        "    #make predictions\n",
        "    pred=model.predict(features_valid)\n",
        "    #model evaluation\n",
        "    print(model)\n",
        "    print('Accuracy score: ',accuracy_score(pred,y_valid))\n",
        "    print('Weighted F1 score: ',f1_score(y_pred=pred,y_true=y_valid,average='weighted'))\n",
        "    print('Confusion Matrix: \\n',confusion_matrix(pred,y_valid))"
      ],
      "metadata": {
        "id": "T-eXmDW8dOq-"
      },
      "execution_count": 24,
      "outputs": []
    },
    {
      "cell_type": "code",
      "source": [
        "#Multinomial Naive Bayes\n",
        "nb=MultinomialNB()\n",
        "model_apply(nb)"
      ],
      "metadata": {
        "colab": {
          "base_uri": "https://localhost:8080/"
        },
        "id": "beKDYWv2dTLj",
        "outputId": "3a34363b-64a0-4edc-ddbe-3e0c1038a425"
      },
      "execution_count": 25,
      "outputs": [
        {
          "output_type": "stream",
          "name": "stdout",
          "text": [
            "MultinomialNB()\n",
            "Accuracy score:  0.8256725595695619\n",
            "Weighted F1 score:  0.8251190219910417\n",
            "Confusion Matrix: \n",
            " [[1335   88   69]\n",
            " [ 307 2471  398]\n",
            " [  93  179 1565]]\n"
          ]
        }
      ]
    },
    {
      "cell_type": "code",
      "source": [
        "#Logistic Regression\n",
        "lr=LogisticRegression(random_state=10,max_iter=500)\n",
        "model_apply(lr)"
      ],
      "metadata": {
        "colab": {
          "base_uri": "https://localhost:8080/"
        },
        "id": "uCphUuuvdXic",
        "outputId": "2d5b9644-494c-4954-b816-4c8cbd17e723"
      },
      "execution_count": 26,
      "outputs": [
        {
          "output_type": "stream",
          "name": "stdout",
          "text": [
            "LogisticRegression(max_iter=500, random_state=10)\n",
            "Accuracy score:  0.8345887778631822\n",
            "Weighted F1 score:  0.8343345245523628\n",
            "Confusion Matrix: \n",
            " [[1394  109   83]\n",
            " [ 250 2419  333]\n",
            " [  91  210 1616]]\n"
          ]
        }
      ]
    },
    {
      "cell_type": "code",
      "source": [
        "#Decision Tree\n",
        "dtc=DecisionTreeClassifier(random_state=10)\n",
        "model_apply(dtc)"
      ],
      "metadata": {
        "colab": {
          "base_uri": "https://localhost:8080/"
        },
        "id": "tcljMOH3dcyr",
        "outputId": "cc738057-4623-4bd1-86c9-14615aa810cc"
      },
      "execution_count": 27,
      "outputs": [
        {
          "output_type": "stream",
          "name": "stdout",
          "text": [
            "DecisionTreeClassifier(random_state=10)\n",
            "Accuracy score:  0.8093774019984628\n",
            "Weighted F1 score:  0.8098049144455752\n",
            "Confusion Matrix: \n",
            " [[1394  169  121]\n",
            " [ 174 2200  240]\n",
            " [ 167  369 1671]]\n"
          ]
        }
      ]
    },
    {
      "cell_type": "code",
      "source": [
        "#Random Forest\n",
        "rf=RandomForestClassifier(random_state=101)\n",
        "model_apply(rf)"
      ],
      "metadata": {
        "colab": {
          "base_uri": "https://localhost:8080/"
        },
        "id": "YKv07SmOdiBX",
        "outputId": "b65f040c-e893-462f-9e4f-06879d6f42d5"
      },
      "execution_count": 28,
      "outputs": [
        {
          "output_type": "stream",
          "name": "stdout",
          "text": [
            "RandomForestClassifier(random_state=101)\n",
            "Accuracy score:  0.9140661029976941\n",
            "Weighted F1 score:  0.9141186143877404\n",
            "Confusion Matrix: \n",
            " [[1559   54   38]\n",
            " [ 117 2535  142]\n",
            " [  59  149 1852]]\n"
          ]
        }
      ]
    }
  ]
}